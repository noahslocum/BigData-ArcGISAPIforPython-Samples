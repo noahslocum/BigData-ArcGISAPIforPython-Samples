{
 "cells": [
  {
   "cell_type": "markdown",
   "id": "e93061ac",
   "metadata": {},
   "source": [
    "## Connect to ArcGIS Enterprise"
   ]
  },
  {
   "cell_type": "markdown",
   "id": "bc7840da",
   "metadata": {},
   "source": [
    "The [GIS](https://developers.arcgis.com/python/api-reference/arcgis.gis.toc.html#gis) class is representative of a single ArcGIS Online organization or an ArcGIS Enterprise deployment. The `GIS` object provides helper objects to manage (search, create, retrieve) GIS resources such as content, users, and groups."
   ]
  },
  {
   "cell_type": "code",
   "execution_count": null,
   "id": "c4870971",
   "metadata": {},
   "outputs": [],
   "source": [
    "# Import\n",
    "from arcgis import GIS"
   ]
  },
  {
   "cell_type": "markdown",
   "id": "42486147",
   "metadata": {},
   "source": [
    "If you are signing in frequently to a particular GIS and would like to [store the credentials locally](https://developers.arcgis.com/python/guide/working-with-different-authentication-schemes/) on your computer, then you could do so using the `profile` parameter of your `GIS`."
   ]
  },
  {
   "cell_type": "code",
   "execution_count": null,
   "id": "4587b8bf",
   "metadata": {},
   "outputs": [],
   "source": [
    "# Connect to the ArcGIS Enterprise deployment\n",
    "gis = GIS(profile=\"dev_summit_demo\")"
   ]
  },
  {
   "cell_type": "markdown",
   "id": "219dac0d",
   "metadata": {},
   "source": [
    "## Add data"
   ]
  },
  {
   "cell_type": "markdown",
   "id": "184b00b4",
   "metadata": {},
   "source": [
    "The [ContentManager](https://developers.arcgis.com/python/api-reference/arcgis.gis.toc.html?#contentmanager) class is a helper class for managing content in ArcGIS Online or ArcGIS Enterprise. An instance of this class, called [content](https://developers.arcgis.com/python/api-reference/arcgis.html?#arcgis.GIS.content), is available as a property of the GIS object. Users call methods on this `content` object to manipulate (create, get, search, etc) items."
   ]
  },
  {
   "cell_type": "markdown",
   "id": "5f4cb185",
   "metadata": {},
   "source": [
    "The `.add()` method adds content to the GIS by creating an Item. The [Item](https://developers.arcgis.com/python/api-reference/arcgis.gis.toc.html?#item) class represents an item in the GIS, where an item is simply considered a unit of content in the GIS."
   ]
  },
  {
   "cell_type": "code",
   "execution_count": null,
   "id": "24ac6226",
   "metadata": {},
   "outputs": [],
   "source": [
    "# Create a unique item name\n",
    "import uuid\n",
    "unique_sd_item_name = \"seattle_example_tracks_demo_{0}\".format(str(uuid.uuid4())[:6])\n",
    "unique_sd_item_name"
   ]
  },
  {
   "cell_type": "code",
   "execution_count": null,
   "id": "12366049",
   "metadata": {},
   "outputs": [],
   "source": [
    "# Add the service definition file\n",
    "item = gis.content.add(item_properties={\"title\": unique_sd_item_name,\n",
    "                                        \"tags\": \"Seattle, Tracks\"\n",
    "                                       },\n",
    "                       data=r\"C:\\Seattle_Example_Tracks\\seattle_example_tracks.sd\")"
   ]
  },
  {
   "cell_type": "markdown",
   "id": "3286dc96",
   "metadata": {},
   "source": [
    "The [publish](https://developers.arcgis.com/python/api-reference/arcgis.gis.toc.html?#arcgis.gis.Item.publish) method is used to publish a hosted service based on an existing source item (this item)."
   ]
  },
  {
   "cell_type": "code",
   "execution_count": null,
   "id": "f507ebf0",
   "metadata": {},
   "outputs": [],
   "source": [
    "# Publish the service definition file\n",
    "published_item = item.publish()"
   ]
  },
  {
   "cell_type": "markdown",
   "id": "47057610",
   "metadata": {},
   "source": [
    "The [shared_with](https://developers.arcgis.com/python/api-reference/arcgis.gis.toc.html?#arcgis.gis.Item.shared_with) property reveals the privacy or sharing status of the current item."
   ]
  },
  {
   "cell_type": "code",
   "execution_count": null,
   "id": "654b8bad",
   "metadata": {},
   "outputs": [],
   "source": [
    "# View current sharing level\n",
    "published_item.shared_with"
   ]
  },
  {
   "cell_type": "markdown",
   "id": "6e79d110",
   "metadata": {},
   "source": [
    "The [share](https://developers.arcgis.com/python/api-reference/arcgis.gis.toc.html?#arcgis.gis.Item.share) method shares an item with the specified list of groups."
   ]
  },
  {
   "cell_type": "code",
   "execution_count": null,
   "id": "d1d65c44",
   "metadata": {},
   "outputs": [],
   "source": [
    "# Share the hosted feature layer with everyone\n",
    "published_item.share(everyone=True)"
   ]
  },
  {
   "cell_type": "code",
   "execution_count": null,
   "id": "55d57db7",
   "metadata": {},
   "outputs": [],
   "source": [
    "# View current sharing level\n",
    "published_item.shared_with"
   ]
  },
  {
   "cell_type": "markdown",
   "id": "fd762806",
   "metadata": {},
   "source": [
    "## Search for data"
   ]
  },
  {
   "cell_type": "markdown",
   "id": "f0607195",
   "metadata": {},
   "source": [
    "The [search](https://developers.arcgis.com/python/api-reference/arcgis.gis.toc.html?#arcgis.gis.ContentManager.search) method searches for portal items and returns a list of [Item](https://developers.arcgis.com/python/api-reference/arcgis.gis.toc.html?#item) objects matching the specified query."
   ]
  },
  {
   "cell_type": "code",
   "execution_count": null,
   "id": "d21e2464",
   "metadata": {},
   "outputs": [],
   "source": [
    "# Find the Seattle example tracks data\n",
    "seattle_example_tracks = gis.content.search(query=\"title:{0}\".format(unique_sd_item_name),\n",
    "                                            item_type=\"feature layer\",\n",
    "                                            max_items=1)[0]\n",
    "seattle_example_tracks"
   ]
  },
  {
   "cell_type": "code",
   "execution_count": null,
   "id": "cab4fb1f",
   "metadata": {},
   "outputs": [],
   "source": [
    "# List all of the Seattle example tracks layers\n",
    "for layer in seattle_example_tracks.layers:\n",
    "    print(layer.properties.name)"
   ]
  },
  {
   "cell_type": "markdown",
   "id": "0502a210",
   "metadata": {},
   "source": [
    "## Create Spatially Enabled DataFrames"
   ]
  },
  {
   "cell_type": "markdown",
   "id": "a2572459",
   "metadata": {},
   "source": [
    "The [Spatially Enabled DataFrame](https://developers.arcgis.com/python/guide/introduction-to-the-spatially-enabled-dataframe/) inserts a custom namespace called spatial into the popular [Pandas](https://pandas.pydata.org/) [DataFrame](http://pandas.pydata.org/pandas-docs/stable/dsintro.html#dataframe) structure to give it spatial abilities. This allows you to use intutive, pandorable operations on both the attribute and spatial columns. Thus, the SEDF is based on data structures inherently suited to data analysis, with natural operations for the filtering and inspecting of subsets of values which are fundamental to statistical and geographic manipulations."
   ]
  },
  {
   "cell_type": "code",
   "execution_count": null,
   "id": "b895cbd7",
   "metadata": {},
   "outputs": [],
   "source": [
    "# Imports\n",
    "import pandas as pd"
   ]
  },
  {
   "cell_type": "code",
   "execution_count": null,
   "id": "b58f6a78",
   "metadata": {},
   "outputs": [],
   "source": [
    "# Create a Spatially Enabled DataFrame object\n",
    "sdf = pd.DataFrame.spatial.from_layer(seattle_example_tracks.layers[4])\n",
    "sdf.head()"
   ]
  },
  {
   "cell_type": "markdown",
   "id": "5bbc4c0a",
   "metadata": {},
   "source": [
    "## Plotting the Spatially Enabled DataFrame"
   ]
  },
  {
   "cell_type": "markdown",
   "id": "1b37aafa",
   "metadata": {},
   "source": [
    "The [map](https://developers.arcgis.com/python/api-reference/arcgis.html?#arcgis.GIS.map) method creates a map widget centered at the declared location."
   ]
  },
  {
   "cell_type": "code",
   "execution_count": null,
   "id": "ab013bd2",
   "metadata": {},
   "outputs": [],
   "source": [
    "# Create a map of Seattle\n",
    "map_one = gis.map(location=\"Seattle\")\n",
    "map_one"
   ]
  },
  {
   "cell_type": "markdown",
   "id": "66686361",
   "metadata": {},
   "source": [
    "You can quickly visualize the points by calling the `plot` method off the DataFrame's spatial accessor and passing the map you created above."
   ]
  },
  {
   "cell_type": "code",
   "execution_count": null,
   "id": "a23be2a3",
   "metadata": {},
   "outputs": [],
   "source": [
    "# Plot the Spatially Enabled DataFrame\n",
    "sdf.spatial.plot(map_widget=map_one)"
   ]
  }
 ],
 "metadata": {
  "kernelspec": {
   "display_name": "Python 3",
   "language": "python",
   "name": "python3"
  },
  "language_info": {
   "codemirror_mode": {
    "name": "ipython",
    "version": 3
   },
   "file_extension": ".py",
   "mimetype": "text/x-python",
   "name": "python",
   "nbconvert_exporter": "python",
   "pygments_lexer": "ipython3",
   "version": "3.7.11"
  }
 },
 "nbformat": 4,
 "nbformat_minor": 5
}
