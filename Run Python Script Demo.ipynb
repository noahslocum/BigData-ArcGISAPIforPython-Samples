{
 "cells": [
  {
   "cell_type": "markdown",
   "id": "74367836",
   "metadata": {},
   "source": [
    "#### Import arcgis and connect to ArcGIS Enterprise"
   ]
  },
  {
   "cell_type": "code",
   "execution_count": 1,
   "id": "2124229b",
   "metadata": {},
   "outputs": [
    {
     "name": "stdout",
     "output_type": "stream",
     "text": [
      "Enter password: ········\n"
     ]
    }
   ],
   "source": [
    "import arcgis\n",
    "from arcgis.gis import GIS\n",
    "from arcgis.geoanalytics.manage_data import run_python_script\n",
    "\n",
    "gis = GIS(\"https://demo.ga.geocloud.com/portal\", username=\"demo73\")\n",
    "arcgis.env.verbose=True"
   ]
  },
  {
   "cell_type": "markdown",
   "id": "40ab077f",
   "metadata": {},
   "source": [
    "#### Define function to run on GeoAnalytics Server"
   ]
  },
  {
   "cell_type": "code",
   "execution_count": 2,
   "id": "d5398ed2",
   "metadata": {},
   "outputs": [],
   "source": [
    "def create_dead_tree_density_map():\n",
    "    import uuid\n",
    "\n",
    "    # Load tree point locations\n",
    "    NYC_tree_url = \"https://demo-gax.ga.geocloud.com/server/rest/services/DataStoreCatalogs/bigDataFileShares_ga-server-demo-data-bdfs/BigDataCatalogServer/NYC_tree_survey\"\n",
    "    NYC_tree_survey = spark.read.format(\"webgis\").load(NYC_tree_url)\n",
    "\n",
    "    # Load NYC borough polygons\n",
    "    boroughs_url = \"https://demo-gax.ga.geocloud.com/server/rest/services/DataStoreCatalogs/bigDataFileShares_ga-server-demo-data-bdfs/BigDataCatalogServer/NY_Borough_Boundaries\"\n",
    "    boroughs = spark.read.format(\"webgis\").load(boroughs_url)\n",
    "\n",
    "    # Project input data to same spatial reference\n",
    "    NYC_tree_survey_proj = geoanalytics.project(input_features=NYC_tree_survey, output_coord_system=2263)\n",
    "    boroughs_proj = geoanalytics.project(input_features=boroughs, output_coord_system=2263)\n",
    "\n",
    "    # Clip tree data to Manhattan boundary\n",
    "    trees_clipped = geoanalytics.clip_layer(NYC_tree_survey_proj, boroughs_proj.filter(\"boro_name = 'Manhattan'\"))\n",
    "\n",
    "    # Calculate density of dead trees\n",
    "    tree_density = geoanalytics.calculate_density(trees_clipped.filter(\"status != 'Alive'\"),\n",
    "                                                  bin_type=\"Hexagon\", bin_size=0.25, bin_size_unit=\"Miles\",\n",
    "                                                  radius=0.5, radius_unit=\"Miles\",\n",
    "                                                  area_units=\"SquareMiles\")\n",
    "\n",
    "    # Clip density bins to Manhattan boundary\n",
    "    tree_density_clipped = geoanalytics.clip_layer(tree_density, boroughs_proj.filter(\"boro_name = 'Manhattan'\"))\n",
    "\n",
    "    # Create unique output name\n",
    "    unique_id = str(uuid.uuid4())[:4]\n",
    "    output_name = \"manhattan_tree_density_\" + unique_id\n",
    "\n",
    "    tree_density_clipped.write.format(\"webgis\").save(output_name)"
   ]
  },
  {
   "cell_type": "markdown",
   "id": "f638565d",
   "metadata": {},
   "source": [
    "#### Pass function to the Run Python Script tool"
   ]
  },
  {
   "cell_type": "code",
   "execution_count": 3,
   "id": "5596fff8",
   "metadata": {},
   "outputs": [
    {
     "name": "stdout",
     "output_type": "stream",
     "text": [
      "Submitted.\n",
      "Executing...\n",
      "Start Time: Wednesday, March 9, 2022 10:33:10 PM\n",
      "{\"messageCode\":\"BD_101028\",\"message\":\"Starting new distributed job with 16 tasks.\",\"params\":{\"totalTasks\":\"16\"}}\n",
      "{\"messageCode\":\"BD_101029\",\"message\":\"0/16 distributed tasks completed.\",\"params\":{\"completedTasks\":\"0\",\"totalTasks\":\"16\"}}\n",
      "{\"messageCode\":\"BD_101029\",\"message\":\"1/16 distributed tasks completed.\",\"params\":{\"completedTasks\":\"1\",\"totalTasks\":\"16\"}}\n",
      "{\"messageCode\":\"BD_101029\",\"message\":\"16/16 distributed tasks completed.\",\"params\":{\"completedTasks\":\"16\",\"totalTasks\":\"16\"}}\n",
      "{\"messageCode\":\"BD_101028\",\"message\":\"Starting new distributed job with 2 tasks.\",\"params\":{\"totalTasks\":\"2\"}}\n",
      "{\"messageCode\":\"BD_101029\",\"message\":\"2/2 distributed tasks completed.\",\"params\":{\"completedTasks\":\"2\",\"totalTasks\":\"2\"}}\n",
      "{\"messageCode\":\"BD_101028\",\"message\":\"Starting new distributed job with 18 tasks.\",\"params\":{\"totalTasks\":\"18\"}}\n",
      "{\"messageCode\":\"BD_101029\",\"message\":\"18/18 distributed tasks completed.\",\"params\":{\"completedTasks\":\"18\",\"totalTasks\":\"18\"}}\n",
      "{\"messageCode\":\"BD_101028\",\"message\":\"Starting new distributed job with 309 tasks.\",\"params\":{\"totalTasks\":\"309\"}}\n",
      "{\"messageCode\":\"BD_101029\",\"message\":\"4/309 distributed tasks completed.\",\"params\":{\"completedTasks\":\"4\",\"totalTasks\":\"309\"}}\n",
      "{\"messageCode\":\"BD_101029\",\"message\":\"69/309 distributed tasks completed.\",\"params\":{\"completedTasks\":\"69\",\"totalTasks\":\"309\"}}\n",
      "{\"messageCode\":\"BD_101029\",\"message\":\"309/309 distributed tasks completed.\",\"params\":{\"completedTasks\":\"309\",\"totalTasks\":\"309\"}}\n",
      "{\"messageCode\":\"BD_101028\",\"message\":\"Starting new distributed job with 2 tasks.\",\"params\":{\"totalTasks\":\"2\"}}\n",
      "{\"messageCode\":\"BD_101029\",\"message\":\"2/2 distributed tasks completed.\",\"params\":{\"completedTasks\":\"2\",\"totalTasks\":\"2\"}}\n",
      "{\"messageCode\":\"BD_101028\",\"message\":\"Starting new distributed job with 311 tasks.\",\"params\":{\"totalTasks\":\"311\"}}\n",
      "{\"messageCode\":\"BD_101028\",\"message\":\"Starting new distributed job with 850 tasks.\",\"params\":{\"totalTasks\":\"850\"}}\n",
      "{\"messageCode\":\"BD_101029\",\"message\":\"0/850 distributed tasks completed.\",\"params\":{\"completedTasks\":\"0\",\"totalTasks\":\"850\"}}\n",
      "{\"messageCode\":\"BD_101029\",\"message\":\"479/850 distributed tasks completed.\",\"params\":{\"completedTasks\":\"479\",\"totalTasks\":\"850\"}}\n",
      "{\"messageCode\":\"BD_101081\",\"message\":\"Finished writing results:\"}\n",
      "{\"messageCode\":\"BD_101082\",\"message\":\"* Count of features = 512\",\"params\":{\"resultCount\":\"512\"}}\n",
      "{\"messageCode\":\"BD_101083\",\"message\":\"* Spatial extent = {\\\"xmin\\\":-74.01934399861936,\\\"ymin\\\":40.693845263399574,\\\"xmax\\\":-73.9066524219675,\\\"ymax\\\":40.87904633958059}\",\"params\":{\"extent\":\"{\\\"xmin\\\":-74.01934399861936,\\\"ymin\\\":40.693845263399574,\\\"xmax\\\":-73.9066524219675,\\\"ymax\\\":40.87904633958059}\"}}\n",
      "{\"messageCode\":\"BD_101084\",\"message\":\"* Temporal extent = None\",\"params\":{\"extent\":\"None\"}}\n",
      "{\"messageCode\":\"BD_101226\",\"message\":\"Feature service layer created: https://demo.ga.geocloud.com/server/rest/services/Hosted/manhattan_tree_density_06d9/FeatureServer/0\",\"params\":{\"serviceUrl\":\"https://demo.ga.geocloud.com/server/rest/services/Hosted/manhattan_tree_density_06d9/FeatureServer/0\"}}\n",
      "Succeeded at Wednesday, March 9, 2022 10:34:06 PM (Elapsed Time: 55.66 seconds)\n",
      "RunPythonScript GP Job: j1aec5492556c4085b894c9aedeb3e678 finished successfully.\n"
     ]
    }
   ],
   "source": [
    "rps = run_python_script(create_dead_tree_density_map)"
   ]
  },
  {
   "cell_type": "markdown",
   "id": "82836cde",
   "metadata": {},
   "source": [
    "#### Visualize result layer"
   ]
  },
  {
   "cell_type": "code",
   "execution_count": null,
   "id": "e3a39867",
   "metadata": {},
   "outputs": [],
   "source": [
    "lyr_url = 'https://demo.ga.geocloud.com/server/rest/services/Hosted/manhattan_tree_density_a839/FeatureServer/0'\n",
    "\n",
    "layer = arcgis.features.FeatureLayer(lyr_url)\n",
    "tree_density_map = gis.map('Manhattan', 11)\n",
    "tree_density_map.add_layer(layer, {\"type\": \"FeatureLayer\",\n",
    "                                   \"renderer\":\"ClassedColorRenderer\",\n",
    "                                   \"field_name\":\"density\",\n",
    "                                   \"opacity\":0.75})\n",
    "tree_density_map"
   ]
  },
  {
   "cell_type": "code",
   "execution_count": null,
   "id": "4e5789e0",
   "metadata": {},
   "outputs": [],
   "source": []
  }
 ],
 "metadata": {
  "kernelspec": {
   "display_name": "Python 3 (ipykernel)",
   "language": "python",
   "name": "python3"
  },
  "language_info": {
   "codemirror_mode": {
    "name": "ipython",
    "version": 3
   },
   "file_extension": ".py",
   "mimetype": "text/x-python",
   "name": "python",
   "nbconvert_exporter": "python",
   "pygments_lexer": "ipython3",
   "version": "3.9.10"
  }
 },
 "nbformat": 4,
 "nbformat_minor": 5
}
